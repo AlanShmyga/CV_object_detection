{
 "cells": [
  {
   "cell_type": "markdown",
   "id": "05515ce4",
   "metadata": {},
   "source": [
    "# Detect objects using YOLOv8 pretrained on ImageNet dataset"
   ]
  },
  {
   "cell_type": "markdown",
   "id": "cd813631",
   "metadata": {},
   "source": [
    "### Import the necessary libraries"
   ]
  },
  {
   "cell_type": "code",
   "execution_count": null,
   "id": "d8242397",
   "metadata": {},
   "outputs": [],
   "source": [
    "from ultralytics import YOLO\n",
    "import cv2"
   ]
  },
  {
   "cell_type": "markdown",
   "id": "ab2d3a9f",
   "metadata": {},
   "source": [
    "### Define model type and video source"
   ]
  },
  {
   "cell_type": "code",
   "execution_count": null,
   "id": "8b47eb4d",
   "metadata": {},
   "outputs": [],
   "source": [
    "model = YOLO(\"yolov8n.pt\")\n",
    "cap = cv2.VideoCapture(0)"
   ]
  },
  {
   "cell_type": "markdown",
   "id": "cd74d8ef",
   "metadata": {},
   "source": [
    "### Run model inference in the loop\n",
    "\n",
    "Run YOLO v8 model inference in the loop reading images from the image source."
   ]
  },
  {
   "cell_type": "code",
   "execution_count": null,
   "id": "c3afb073",
   "metadata": {},
   "outputs": [],
   "source": [
    "while cap.isOpened():\n",
    "    # Try to read image from source\n",
    "    success, frame = cap.read()\n",
    "    \n",
    "    # Run inference if read was successfull\n",
    "    if success:\n",
    "        \n",
    "        # Run the YOLO inference\n",
    "        results = model(frame)\n",
    "        \n",
    "        # Initialize the annotated image with the original frame first\n",
    "        annotated_frame = frame\n",
    "        \n",
    "        # Plot all the bouning boxes of the detected objects\n",
    "        for res in results:\n",
    "            annotated_frame = res.plot()\n",
    "        \n",
    "        # Show objects bounding boxes on the original frame\n",
    "        cv2.imshow(\"YOLO v8 predictions\", annotated_frame)\n",
    "        \n",
    "        # Wait for user loop interuption with \"q\" key.\n",
    "        if cv2.waitKey(1) & 0xFF == ord(\"q\"):\n",
    "            print(\"User interupted execution.\")\n",
    "            break\n",
    "            \n",
    "    # Interupt the loop if reading is not possible for some reason\n",
    "    else:\n",
    "        print(\"Cannot reat the video frames.\")\n",
    "        break\n",
    "\n",
    "# Release the image source and destroy the system windows \n",
    "# that we've created during the execution\n",
    "cap.release()\n",
    "cv2.destroyAllWindows()"
   ]
  }
 ],
 "metadata": {
  "kernelspec": {
   "display_name": "dl",
   "language": "python",
   "name": "dl"
  },
  "language_info": {
   "codemirror_mode": {
    "name": "ipython",
    "version": 3
   },
   "file_extension": ".py",
   "mimetype": "text/x-python",
   "name": "python",
   "nbconvert_exporter": "python",
   "pygments_lexer": "ipython3",
   "version": "3.10.9"
  }
 },
 "nbformat": 4,
 "nbformat_minor": 5
}
